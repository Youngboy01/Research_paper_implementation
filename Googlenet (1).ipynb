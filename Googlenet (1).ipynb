{
  "nbformat": 4,
  "nbformat_minor": 0,
  "metadata": {
    "colab": {
      "provenance": [],
      "gpuType": "T4"
    },
    "kernelspec": {
      "name": "python3",
      "display_name": "Python 3"
    },
    "language_info": {
      "name": "python"
    },
    "accelerator": "GPU"
  },
  "cells": [
    {
      "cell_type": "markdown",
      "source": [
        "##An implementation of googlenet which uses inception module."
      ],
      "metadata": {
        "id": "juXtdGENWSye"
      }
    },
    {
      "cell_type": "markdown",
      "source": [
        "###We can think of inception module as-\n",
        "Think of a camera with different lenses:\n",
        "Some lenses focus on tiny details.\n",
        "Others zoom out for the big picture.\n",
        "Instead of switching lenses, Googlenet's Inception module places all these lenses in parallel,\n",
        "capturing details at once. The combined picture of all these scales makes the recognition better(multi-scaling)."
      ],
      "metadata": {
        "id": "pfWbf8EeWdAH"
      }
    },
    {
      "cell_type": "code",
      "source": [
        "import torch\n",
        "import torch.nn as nn"
      ],
      "metadata": {
        "id": "BN3yvoUcXUI6"
      },
      "execution_count": 1,
      "outputs": []
    },
    {
      "cell_type": "markdown",
      "source": [
        "####Set up device agnostic code"
      ],
      "metadata": {
        "id": "L9bfGWENX7j3"
      }
    },
    {
      "cell_type": "code",
      "source": [
        "device=\"cuda\" if torch.cuda.is_available() else \"cpu\"\n",
        "device"
      ],
      "metadata": {
        "colab": {
          "base_uri": "https://localhost:8080/",
          "height": 35
        },
        "id": "rzABAh1ZYSlH",
        "outputId": "9111506b-853c-4d20-da17-b7268791da35"
      },
      "execution_count": 3,
      "outputs": [
        {
          "output_type": "execute_result",
          "data": {
            "text/plain": [
              "'cuda'"
            ],
            "application/vnd.google.colaboratory.intrinsic+json": {
              "type": "string"
            }
          },
          "metadata": {},
          "execution_count": 3
        }
      ]
    },
    {
      "cell_type": "markdown",
      "source": [
        "####Creting class BaseCon2d so we dont have to do nn.Conv2d and nn.ReLU again and again."
      ],
      "metadata": {
        "id": "B_fwggJSq-4s"
      }
    },
    {
      "cell_type": "code",
      "source": [
        "class BaseConv2d(nn.Module):\n",
        "  def __init__(self, in_channels,out_channels, **kwargs):\n",
        "    super(BaseConv2d,self).__init__()\n",
        "    self.conv=nn.Conv2d(in_channels,out_channels,**kwargs)\n",
        "    self.relu=nn.ReLU()\n",
        "  def forward(self,x):\n",
        "    return self.relu(self.conv(x))"
      ],
      "metadata": {
        "id": "aESZ-3G5YivT"
      },
      "execution_count": 4,
      "outputs": []
    },
    {
      "cell_type": "markdown",
      "source": [
        "##Creating Inception module which contains-\n",
        "1. in_channels: number of input channels (feature maps) coming into the Inception module.\n",
        "2. n1x1: number of output channels for the direct 1x1 convolution.\n",
        "3. n3x3_reduce:The number of output channels for the 1x1 convolution that comes before the 3x3 convolution\n",
        "4. n3x3: number of output channels for the 3x3 convolution.\n",
        "5. n5x5_reduce: number of output channels for the 1x1 convolution that comes before the 5x5 convolution.\n",
        "6. n5x5: number of output channels for the 5x5 convolution.\n",
        "7. pool_proj: number of output channels for the 1x1 convolution that follows the max pooling operation."
      ],
      "metadata": {
        "id": "1mxQ6wYdq23M"
      }
    },
    {
      "cell_type": "code",
      "source": [
        "class InceptionModule(nn.Module):\n",
        "  def __init__(self, in_channels,n1x1,n3x3_reduce, n3x3, n5x5_reduce, n5x5, pool_proj ,**kwargs):\n",
        "    super(InceptionModule,self).__init__()\n",
        "    self.branch1=nn.Sequential(\n",
        "        BaseConv2d(in_channels,n1x1,kernel_size=1)\n",
        "    )\n",
        "    self.branch2=nn.Sequential(\n",
        "        BaseConv2d(in_channels,n3x3_reduce,kernel_size=1),\n",
        "        BaseConv2d(n3x3_reduce,n3x3,kernel_size=3,padding=1)\n",
        "    )\n",
        "    self.branch3=nn.Sequential(\n",
        "        BaseConv2d(in_channels,n5x5_reduce,kernel_size=1),\n",
        "        BaseConv2d(n5x5_reduce,n5x5,kernel_size=5,padding=2)\n",
        "    )\n",
        "    self.branch4=nn.Sequential(\n",
        "        nn.MaxPool2d(kernel_size=3,stride=1,padding=1),\n",
        "        BaseConv2d(in_channels,pool_proj,kernel_size=1)\n",
        "    )\n",
        "  def forward(self,x):\n",
        "    branch1=self.branch1(x)\n",
        "    branch2=self.branch2(x)\n",
        "    branch3=self.branch3(x)\n",
        "    branch4=self.branch4(x)\n",
        "    return torch.cat([branch1,branch2,branch3,branch4],dim=1)#concatenation of all the outputs of the 4 branches\n"
      ],
      "metadata": {
        "id": "2ealJcbechZB"
      },
      "execution_count": 5,
      "outputs": []
    },
    {
      "cell_type": "markdown",
      "source": [
        "###Auxillary classifier:\n",
        "imagine training a deep network like climbing a tall mountain with many steps. When climbing, you sometimes lose your way or get tired, making it hard to reach the top. In a deep network, the problem of vanishing gradients is similar: as the error signal (or \"gradient\") travels backward from the output layer to the initial layers, it can become very weak, making early layers learn slowly.\n",
        "\n",
        "Auxiliary classifiers help by acting like **rest stops or checkpoints midway up the mountain**. These checkpoints:\n",
        "\n",
        "  1. Evaluate how well the current position (intermediate layer) is doing in predicting the target.\n",
        "\n",
        "  2. Send a direct gradient signal back to their specific layer, kind of like a quick reassurance or guide.\n",
        "\n",
        "So, instead of waiting for the error signal to traverse the entire network and weaken, the auxiliary classifiers provide immediate, stronger gradient signals directly to earlier layers. This helps:\n",
        "\n",
        "1. The early layers learn more effectively.\n",
        "2. The whole network train faster and more reliably.\n"
      ],
      "metadata": {
        "id": "kk-yrmx5wyhV"
      }
    },
    {
      "cell_type": "markdown",
      "source": [
        "Now lets define auxillary classifier:\n",
        "\n",
        "Auxiliary classifiers are small, additional classifiers added to intermediate layers of a main neural network during training.\n",
        "\n",
        " Each auxiliary classifier takes the output of the layer it's connected to and tries to make its own prediction on the same task as the main classifier.\n",
        "\n",
        "The key idea is that the loss from each auxiliary classifier is also added to the overall training loss.\n"
      ],
      "metadata": {
        "id": "Ww8KUFx-w-0p"
      }
    },
    {
      "cell_type": "code",
      "source": [
        "class AuxillaryClassifier(nn.Module):\n",
        "  def __init__(self,in_channels,num_classes,dropout=0.7):\n",
        "    super(AuxillaryClassifier,self).__init__()\n",
        "    self.avgpool = nn.AdaptiveAvgPool2d((4,4))\n",
        "    self.conv = BaseConv2d(in_channels, 128, kernel_size=1)\n",
        "    self.relu = nn.ReLU()\n",
        "    self.flatten = nn.Flatten()\n",
        "    self.fc1 = nn.Linear(2048, 1024)\n",
        "    self.dropout = nn.Dropout(p=dropout)\n",
        "    self.fc2 = nn.Linear(1024, num_classes)\n",
        "  def forward(self,x):\n",
        "    x = self.avgpool(x)\n",
        "    x = self.conv(x)\n",
        "    x = self.flatten(x)\n",
        "    x = self.fc1(x)\n",
        "    x = self.relu(x)\n",
        "    x = self.dropout(x)\n",
        "    x = self.fc2(x)\n",
        "    return x"
      ],
      "metadata": {
        "id": "PSUxOVn5yTDc"
      },
      "execution_count": 6,
      "outputs": []
    },
    {
      "cell_type": "markdown",
      "source": [
        "now lets create the google net model\n"
      ],
      "metadata": {
        "id": "B2JkihKkEaQt"
      }
    },
    {
      "cell_type": "code",
      "source": [
        "class GoogleNet(nn.Module):\n",
        "  def __init__(self, num_classes=10,use_aux=True):\n",
        "    super(GoogleNet,self).__init__()\n",
        "    self.use_aux=use_aux\n",
        "    #BLOCK 1\n",
        "    self.conv1=BaseConv2d(3,64,kernel_size=7,stride=2,padding=3)\n",
        "    self.lrn1=nn.LocalResponseNorm(size=5,alpha=0.0001,beta=0.75)\n",
        "    self.maxpool1=nn.MaxPool2d(kernel_size=3,stride=2,padding=1)\n",
        "    #BLOCK 2\n",
        "    self.conv2=BaseConv2d(64,64,kernel_size=1)\n",
        "    self.conv3=BaseConv2d(64,192,kernel_size=3,padding=1)\n",
        "    self.lrn2=nn.LocalResponseNorm(size=5,alpha=0.0001,beta=0.75)\n",
        "    self.maxpool2=nn.MaxPool2d(kernel_size=3,stride=2,padding=1)\n",
        "    #INCEPTION MODULE\n",
        "    #BLOCK 3\n",
        "    self.inception3a=InceptionModule(192,64,96,128,16,32,32)\n",
        "    self.inception3b=InceptionModule(256,128,128,192,32,96,64)\n",
        "    self.maxpool3 = nn.MaxPool2d(kernel_size=3, stride=2, padding=1)\n",
        "    #BLOCK 4\n",
        "    self.inception4a=InceptionModule(480,192,96,208,16,48,64)\n",
        "    self.inception4b=InceptionModule(512,160,112,224,24,64,64)\n",
        "    self.inception4c=InceptionModule(512,128,128,256,24,64,64)\n",
        "    self.inception4d=InceptionModule(512,112,144,288,32,64,64)\n",
        "    self.inception4e=InceptionModule(528,256,160,320,32,128,128)\n",
        "    self.maxpool4 = nn.MaxPool2d(kernel_size=3, stride=2, padding=1)\n",
        "    #BLOCK 5\n",
        "    self.inception5a=InceptionModule(832,256,160,320,32,128,128)\n",
        "    self.inception5b=InceptionModule(832,384,192,384,48,128,128)\n",
        "\n",
        "    ## auxiliary classifier\n",
        "    if self.use_aux:\n",
        "      self.aux1 = AuxillaryClassifier(512,num_classes)\n",
        "      self.aux2 = AuxillaryClassifier(528, num_classes)\n",
        "    #BLOCK 6\n",
        "    self.avgpool =nn.AdaptiveAvgPool2d((1,1))\n",
        "    self.dropout = nn.Dropout(p=0.4)\n",
        "    self.fc = nn.Linear(1024,num_classes)\n",
        "  def forward(self,x):\n",
        "    ## block 1\n",
        "    x = self.conv1(x)\n",
        "    x = self.lrn1(x)\n",
        "    x = self.maxpool1(x)\n",
        "\n",
        "    ## block 2\n",
        "    x = self.conv2(x)\n",
        "    x = self.conv3(x)\n",
        "    x = self.lrn2(x)\n",
        "    x = self.maxpool2(x)\n",
        "    #block 3\n",
        "    x = self.inception3a(x)\n",
        "    x = self.inception3b(x)\n",
        "    x = self.maxpool3(x)\n",
        "    #blockk 4\n",
        "    x = self.inception4a(x)\n",
        "    if self.use_aux:\n",
        "      aux1 = self.aux1(x)\n",
        "    x=self.inception4b(x)\n",
        "    x=self.inception4c(x)\n",
        "    x=self.inception4d(x)\n",
        "    if self.use_aux:\n",
        "      aux2 = self.aux2(x)\n",
        "    x=self.inception4e(x)\n",
        "    x=self.maxpool4(x)\n",
        "    #block 5\n",
        "    x=self.inception5a(x)\n",
        "    x=self.inception5b(x)\n",
        "    #block 6\n",
        "    x=self.avgpool(x)\n",
        "    x=torch.flatten(x,1)\n",
        "    x=self.dropout(x)\n",
        "    x=self.fc(x)\n",
        "    if self.use_aux:\n",
        "      return x,aux1,aux2\n",
        "    else:\n",
        "      return x"
      ],
      "metadata": {
        "id": "4-Mq-phzEf0W"
      },
      "execution_count": 7,
      "outputs": []
    },
    {
      "cell_type": "code",
      "source": [
        "def train(model, train_loader, criterion, optimizer, device, aux_weight=0.3):\n",
        "    model.train()\n",
        "    running_loss = 0.0\n",
        "    correct = 0\n",
        "    total = 0\n",
        "\n",
        "    for i, (inputs, labels) in enumerate(train_loader):\n",
        "        inputs, labels = inputs.to(device), labels.to(device)\n",
        "\n",
        "        optimizer.zero_grad()\n",
        "\n",
        "        if model.use_aux:\n",
        "            outputs, aux1, aux2 = model(inputs)\n",
        "            loss1 = criterion(outputs, labels)\n",
        "            loss2 = criterion(aux1, labels)\n",
        "            loss3 = criterion(aux2, labels)\n",
        "            loss = loss1 + aux_weight * (loss2 + loss3)\n",
        "        else:\n",
        "            outputs = model(inputs)\n",
        "            loss = criterion(outputs, labels)\n",
        "\n",
        "        loss.backward()\n",
        "        optimizer.step()\n",
        "\n",
        "        running_loss += loss.item()\n",
        "        _, predicted = outputs.max(1)\n",
        "        total += labels.size(0)\n",
        "        correct += predicted.eq(labels).sum().item()\n",
        "\n",
        "        if (i + 1) % 100 == 0:\n",
        "            print(f'Batch: {i+1}, Loss: {running_loss/100:.3f}, Acc: {100.*correct/total:.3f}%')\n",
        "            running_loss = 0.0\n",
        "\n",
        "    return 100. * correct / total"
      ],
      "metadata": {
        "id": "8yUHntCaLSvE"
      },
      "execution_count": 8,
      "outputs": []
    },
    {
      "cell_type": "code",
      "source": [
        "def validate(model, val_loader, criterion, device):\n",
        "    model.eval()\n",
        "    running_loss = 0.0\n",
        "    correct = 0\n",
        "    total = 0\n",
        "\n",
        "    with torch.no_grad():\n",
        "        for inputs, labels in val_loader:\n",
        "            inputs, labels = inputs.to(device), labels.to(device)\n",
        "\n",
        "            if model.use_aux:\n",
        "                outputs, _, _ = model(inputs)\n",
        "            else:\n",
        "                outputs = model(inputs)\n",
        "\n",
        "            loss = criterion(outputs, labels)\n",
        "\n",
        "            running_loss += loss.item()\n",
        "            _, predicted = outputs.max(1)\n",
        "            total += labels.size(0)\n",
        "            correct += predicted.eq(labels).sum().item()\n",
        "\n",
        "    accuracy = 100. * correct / total\n",
        "    avg_loss = running_loss / len(val_loader)\n",
        "\n",
        "    print(f'Validation Loss: {avg_loss:.3f}, Accuracy: {accuracy:.3f}%')\n",
        "\n",
        "    return accuracy, avg_loss"
      ],
      "metadata": {
        "id": "TzvUAYh1XRXs"
      },
      "execution_count": 9,
      "outputs": []
    },
    {
      "cell_type": "code",
      "source": [
        "import torchvision\n",
        "import torchvision.transforms as transforms\n",
        "from torch.utils.data import DataLoader"
      ],
      "metadata": {
        "id": "TMhzEoABX4Gy"
      },
      "execution_count": 10,
      "outputs": []
    },
    {
      "cell_type": "code",
      "source": [
        "def get_cifar10_loaders(batch_size=128):\n",
        "    # Data transformations - including normalization based on CIFAR-10 statistics\n",
        "    transform_train = transforms.Compose([\n",
        "        transforms.RandomCrop(32, padding=4),\n",
        "        transforms.RandomHorizontalFlip(),\n",
        "        transforms.ToTensor(),\n",
        "        transforms.Normalize((0.4914, 0.4822, 0.4465), (0.2023, 0.1994, 0.2010)),\n",
        "    ])\n",
        "\n",
        "    transform_test = transforms.Compose([\n",
        "        transforms.ToTensor(),\n",
        "        transforms.Normalize((0.4914, 0.4822, 0.4465), (0.2023, 0.1994, 0.2010)),\n",
        "    ])\n",
        "\n",
        "    # Load datasets\n",
        "    trainset = torchvision.datasets.CIFAR10(\n",
        "        root='./data', train=True, download=True, transform=transform_train)\n",
        "    trainloader = DataLoader(\n",
        "        trainset, batch_size=batch_size, shuffle=True, num_workers=2)\n",
        "\n",
        "    testset = torchvision.datasets.CIFAR10(\n",
        "        root='./data', train=False, download=True, transform=transform_test)\n",
        "    testloader = DataLoader(\n",
        "        testset, batch_size=batch_size, shuffle=False, num_workers=2)\n",
        "\n",
        "    return trainloader, testloader\n"
      ],
      "metadata": {
        "id": "Hj2K6zkKXwMx"
      },
      "execution_count": 11,
      "outputs": []
    },
    {
      "cell_type": "code",
      "source": [
        "import torch.optim as optim\n",
        "import time\n",
        "import matplotlib.pyplot as plt"
      ],
      "metadata": {
        "id": "nnoQ1eXTYTGQ"
      },
      "execution_count": 12,
      "outputs": []
    },
    {
      "cell_type": "code",
      "source": [
        "def main():\n",
        "    # Hyperparameters\n",
        "    num_epochs = 15\n",
        "    batch_size = 128\n",
        "    learning_rate = 0.001\n",
        "    num_classes = 10\n",
        "\n",
        "    # Get data loaders\n",
        "    train_loader, test_loader = get_cifar10_loaders(batch_size)\n",
        "\n",
        "    # Initialize the model\n",
        "    model = GoogleNet(num_classes=num_classes).to(device)\n",
        "\n",
        "    # Loss and optimizer\n",
        "    criterion = nn.CrossEntropyLoss()\n",
        "    optimizer = optim.Adam(model.parameters(), lr=learning_rate)\n",
        "    scheduler = optim.lr_scheduler.StepLR(optimizer, step_size=7, gamma=0.1)\n",
        "\n",
        "    # Lists to store metrics\n",
        "    train_accuracies = []\n",
        "    val_accuracies = []\n",
        "    val_losses = []\n",
        "\n",
        "    # Training loop\n",
        "    for epoch in range(num_epochs):\n",
        "        print(f'Epoch {epoch+1}/{num_epochs}')\n",
        "        start_time = time.time()\n",
        "\n",
        "        # Train and validate\n",
        "        train_acc = train(model, train_loader, criterion, optimizer, device)\n",
        "        val_acc, val_loss = validate(model, test_loader, criterion, device)\n",
        "\n",
        "        # Update learning rate\n",
        "        scheduler.step()\n",
        "\n",
        "        # Store metrics\n",
        "        train_accuracies.append(train_acc)\n",
        "        val_accuracies.append(val_acc)\n",
        "        val_losses.append(val_loss)\n",
        "\n",
        "        epoch_time = time.time() - start_time\n",
        "        print(f'Epoch {epoch+1} completed in {epoch_time:.2f} seconds')\n",
        "        print(f'Learning Rate: {scheduler.get_last_lr()[0]:.6f}')\n",
        "        print('-' * 60)\n",
        "\n",
        "    # Save the model\n",
        "    torch.save(model.state_dict(), 'googlenet_cifar10.pth')\n",
        "\n",
        "    # Plot training and validation metrics\n",
        "    plt.figure(figsize=(12, 5))\n",
        "\n",
        "    plt.subplot(1, 2, 1)\n",
        "    plt.plot(range(1, num_epochs + 1), train_accuracies, label='Train Accuracy')\n",
        "    plt.plot(range(1, num_epochs + 1), val_accuracies, label='Validation Accuracy')\n",
        "    plt.xlabel('Epoch')\n",
        "    plt.ylabel('Accuracy (%)')\n",
        "    plt.title('Training and Validation Accuracy')\n",
        "    plt.legend()\n",
        "\n",
        "    plt.subplot(1, 2, 2)\n",
        "    plt.plot(range(1, num_epochs + 1), val_losses)\n",
        "    plt.xlabel('Epoch')\n",
        "    plt.ylabel('Loss')\n",
        "    plt.title('Validation Loss')\n",
        "\n",
        "    plt.tight_layout()\n",
        "    plt.savefig('googlenet_training_metrics.png')\n",
        "    plt.show()\n"
      ],
      "metadata": {
        "id": "5YDDa1hdYEmF"
      },
      "execution_count": 15,
      "outputs": []
    },
    {
      "cell_type": "code",
      "source": [
        "if __name__ == '__main__':\n",
        "    main()\n"
      ],
      "metadata": {
        "colab": {
          "base_uri": "https://localhost:8080/",
          "height": 1000
        },
        "id": "keQ9vG0XYdaG",
        "outputId": "c67cfdc8-05bc-47fb-85d2-19a55674af2d"
      },
      "execution_count": 16,
      "outputs": [
        {
          "output_type": "stream",
          "name": "stdout",
          "text": [
            "Epoch 1/15\n",
            "Batch: 100, Loss: 3.467, Acc: 14.664%\n",
            "Batch: 200, Loss: 3.152, Acc: 16.664%\n",
            "Batch: 300, Loss: 3.065, Acc: 18.112%\n",
            "Validation Loss: 1.818, Accuracy: 26.590%\n",
            "Epoch 1 completed in 28.26 seconds\n",
            "Learning Rate: 0.001000\n",
            "------------------------------------------------------------\n",
            "Epoch 2/15\n",
            "Batch: 100, Loss: 2.930, Acc: 25.688%\n",
            "Batch: 200, Loss: 2.888, Acc: 26.582%\n",
            "Batch: 300, Loss: 2.839, Acc: 27.604%\n",
            "Validation Loss: 1.666, Accuracy: 35.070%\n",
            "Epoch 2 completed in 28.22 seconds\n",
            "Learning Rate: 0.001000\n",
            "------------------------------------------------------------\n",
            "Epoch 3/15\n",
            "Batch: 100, Loss: 2.642, Acc: 35.695%\n",
            "Batch: 200, Loss: 2.559, Acc: 36.789%\n",
            "Batch: 300, Loss: 2.471, Acc: 38.188%\n",
            "Validation Loss: 1.418, Accuracy: 45.800%\n",
            "Epoch 3 completed in 28.00 seconds\n",
            "Learning Rate: 0.001000\n",
            "------------------------------------------------------------\n",
            "Epoch 4/15\n",
            "Batch: 100, Loss: 2.311, Acc: 45.148%\n",
            "Batch: 200, Loss: 2.242, Acc: 46.758%\n",
            "Batch: 300, Loss: 2.185, Acc: 47.589%\n",
            "Validation Loss: 1.260, Accuracy: 53.860%\n",
            "Epoch 4 completed in 28.58 seconds\n",
            "Learning Rate: 0.001000\n",
            "------------------------------------------------------------\n",
            "Epoch 5/15\n",
            "Batch: 100, Loss: 2.078, Acc: 52.820%\n",
            "Batch: 200, Loss: 1.963, Acc: 54.129%\n",
            "Batch: 300, Loss: 1.947, Acc: 54.924%\n",
            "Validation Loss: 1.144, Accuracy: 58.980%\n",
            "Epoch 5 completed in 29.08 seconds\n",
            "Learning Rate: 0.001000\n",
            "------------------------------------------------------------\n",
            "Epoch 6/15\n",
            "Batch: 100, Loss: 1.860, Acc: 58.367%\n",
            "Batch: 200, Loss: 1.780, Acc: 59.539%\n",
            "Batch: 300, Loss: 1.804, Acc: 59.984%\n",
            "Validation Loss: 1.085, Accuracy: 62.970%\n",
            "Epoch 6 completed in 28.76 seconds\n",
            "Learning Rate: 0.001000\n",
            "------------------------------------------------------------\n",
            "Epoch 7/15\n",
            "Batch: 100, Loss: 1.731, Acc: 62.523%\n",
            "Batch: 200, Loss: 1.670, Acc: 62.852%\n",
            "Batch: 300, Loss: 1.638, Acc: 63.229%\n",
            "Validation Loss: 1.001, Accuracy: 66.180%\n",
            "Epoch 7 completed in 29.45 seconds\n",
            "Learning Rate: 0.000100\n",
            "------------------------------------------------------------\n",
            "Epoch 8/15\n",
            "Batch: 100, Loss: 1.502, Acc: 67.672%\n",
            "Batch: 200, Loss: 1.431, Acc: 68.461%\n",
            "Batch: 300, Loss: 1.426, Acc: 68.727%\n",
            "Validation Loss: 0.891, Accuracy: 69.250%\n",
            "Epoch 8 completed in 28.78 seconds\n",
            "Learning Rate: 0.000100\n",
            "------------------------------------------------------------\n",
            "Epoch 9/15\n",
            "Batch: 100, Loss: 1.400, Acc: 69.531%\n",
            "Batch: 200, Loss: 1.393, Acc: 69.734%\n",
            "Batch: 300, Loss: 1.379, Acc: 69.857%\n",
            "Validation Loss: 0.877, Accuracy: 70.010%\n",
            "Epoch 9 completed in 29.59 seconds\n",
            "Learning Rate: 0.000100\n",
            "------------------------------------------------------------\n",
            "Epoch 10/15\n",
            "Batch: 100, Loss: 1.360, Acc: 70.797%\n",
            "Batch: 200, Loss: 1.385, Acc: 70.230%\n",
            "Batch: 300, Loss: 1.340, Acc: 70.367%\n",
            "Validation Loss: 0.876, Accuracy: 69.880%\n",
            "Epoch 10 completed in 28.59 seconds\n",
            "Learning Rate: 0.000100\n",
            "------------------------------------------------------------\n",
            "Epoch 11/15\n",
            "Batch: 100, Loss: 1.364, Acc: 70.516%\n",
            "Batch: 200, Loss: 1.348, Acc: 70.648%\n",
            "Batch: 300, Loss: 1.333, Acc: 70.865%\n",
            "Validation Loss: 0.864, Accuracy: 70.660%\n",
            "Epoch 11 completed in 28.70 seconds\n",
            "Learning Rate: 0.000100\n",
            "------------------------------------------------------------\n",
            "Epoch 12/15\n",
            "Batch: 100, Loss: 1.329, Acc: 71.180%\n",
            "Batch: 200, Loss: 1.326, Acc: 71.199%\n",
            "Batch: 300, Loss: 1.324, Acc: 71.198%\n",
            "Validation Loss: 0.847, Accuracy: 71.110%\n",
            "Epoch 12 completed in 29.16 seconds\n",
            "Learning Rate: 0.000100\n",
            "------------------------------------------------------------\n",
            "Epoch 13/15\n",
            "Batch: 100, Loss: 1.325, Acc: 71.094%\n",
            "Batch: 200, Loss: 1.305, Acc: 71.410%\n",
            "Batch: 300, Loss: 1.311, Acc: 71.518%\n",
            "Validation Loss: 0.841, Accuracy: 71.100%\n",
            "Epoch 13 completed in 29.59 seconds\n",
            "Learning Rate: 0.000100\n",
            "------------------------------------------------------------\n",
            "Epoch 14/15\n",
            "Batch: 100, Loss: 1.285, Acc: 71.938%\n",
            "Batch: 200, Loss: 1.297, Acc: 71.895%\n",
            "Batch: 300, Loss: 1.288, Acc: 71.904%\n",
            "Validation Loss: 0.835, Accuracy: 71.320%\n",
            "Epoch 14 completed in 28.94 seconds\n",
            "Learning Rate: 0.000010\n",
            "------------------------------------------------------------\n",
            "Epoch 15/15\n",
            "Batch: 100, Loss: 1.278, Acc: 72.180%\n",
            "Batch: 200, Loss: 1.241, Acc: 72.602%\n",
            "Batch: 300, Loss: 1.285, Acc: 72.393%\n",
            "Validation Loss: 0.827, Accuracy: 71.870%\n",
            "Epoch 15 completed in 28.81 seconds\n",
            "Learning Rate: 0.000010\n",
            "------------------------------------------------------------\n"
          ]
        },
        {
          "output_type": "display_data",
          "data": {
            "text/plain": [
              "<Figure size 1200x500 with 2 Axes>"
            ],
            "image/png": "[encoded data removed]"
          },
          "metadata": {}
        }
      ]
    },
    {
      "cell_type": "code",
      "source": [],
      "metadata": {
        "id": "f2EDP3ImYhrY"
      },
      "execution_count": null,
      "outputs": []
    }
  ]
}